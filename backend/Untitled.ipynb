{
 "cells": [
  {
   "cell_type": "code",
   "execution_count": 1,
   "metadata": {},
   "outputs": [],
   "source": [
    "import json"
   ]
  },
  {
   "cell_type": "code",
   "execution_count": 2,
   "metadata": {},
   "outputs": [],
   "source": [
    "with open(\"./Data/rfpl_info.json\") as f:\n",
    "    json.load(f)"
   ]
  },
  {
   "cell_type": "code",
   "execution_count": 14,
   "metadata": {},
   "outputs": [],
   "source": [
    "dict_ = {\n",
    "    'match_id': 18382091, 'match_start_time': 1564419600, 'home_team_id': 'fc_rubin_kazan', \n",
    "    'home_team_logo': 'https://s5o.ru/storage/simple/ru/edt/10/85/3e/55/rueb32ba662b6.jpg', \n",
    "    'away_team_id': 'fc_akhmat_grozny', \n",
    "    'away_team_logo': 'https://s5o.ru/storage/simple/ru/edt/eb/e9/7c/35/ruee5d9c2d146.jpg', \n",
    "    'venue_id': 'tsentralnyi_stadium', 'venue_capacity': 10321, \n",
    "    'venue_lon': 32.0547, 'venue_lat': 49.4361}"
   ]
  },
  {
   "cell_type": "code",
   "execution_count": 15,
   "metadata": {},
   "outputs": [
    {
     "data": {
      "text/plain": [
       "{'match_id': 18382091,\n",
       " 'match_start_time': 1564419600,\n",
       " 'home_team_id': 'fc_rubin_kazan',\n",
       " 'home_team_logo': 'https://s5o.ru/storage/simple/ru/edt/10/85/3e/55/rueb32ba662b6.jpg',\n",
       " 'away_team_id': 'fc_akhmat_grozny',\n",
       " 'away_team_logo': 'https://s5o.ru/storage/simple/ru/edt/eb/e9/7c/35/ruee5d9c2d146.jpg',\n",
       " 'venue_id': 'tsentralnyi_stadium',\n",
       " 'venue_capacity': 10321,\n",
       " 'venue_lon': 32.0547,\n",
       " 'venue_lat': 49.4361}"
      ]
     },
     "execution_count": 15,
     "metadata": {},
     "output_type": "execute_result"
    }
   ],
   "source": [
    "dict_"
   ]
  },
  {
   "cell_type": "code",
   "execution_count": 16,
   "metadata": {},
   "outputs": [],
   "source": [
    "with open(\"./te.json\", \"w\") as f:\n",
    "    json.dump(dict_, f)"
   ]
  },
  {
   "cell_type": "code",
   "execution_count": null,
   "metadata": {},
   "outputs": [],
   "source": []
  },
  {
   "cell_type": "code",
   "execution_count": null,
   "metadata": {},
   "outputs": [],
   "source": []
  },
  {
   "cell_type": "code",
   "execution_count": null,
   "metadata": {},
   "outputs": [],
   "source": []
  },
  {
   "cell_type": "code",
   "execution_count": null,
   "metadata": {},
   "outputs": [],
   "source": []
  },
  {
   "cell_type": "code",
   "execution_count": null,
   "metadata": {},
   "outputs": [],
   "source": []
  }
 ],
 "metadata": {
  "kernelspec": {
   "display_name": "Python 3",
   "language": "python",
   "name": "python3"
  },
  "language_info": {
   "codemirror_mode": {
    "name": "ipython",
    "version": 3
   },
   "file_extension": ".py",
   "mimetype": "text/x-python",
   "name": "python",
   "nbconvert_exporter": "python",
   "pygments_lexer": "ipython3",
   "version": "3.7.3"
  }
 },
 "nbformat": 4,
 "nbformat_minor": 2
}
